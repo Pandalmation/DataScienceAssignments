{
 "cells": [
  {
   "cell_type": "code",
   "execution_count": 373,
   "id": "f6e455a3",
   "metadata": {},
   "outputs": [
    {
     "name": "stdout",
     "output_type": "stream",
     "text": [
      "Requirement already satisfied: kneed in c:\\users\\tiffa\\anaconda3\\lib\\site-packages (0.8.1)\n",
      "Requirement already satisfied: numpy>=1.14.2 in c:\\users\\tiffa\\anaconda3\\lib\\site-packages (from kneed) (1.21.5)\n",
      "Requirement already satisfied: scipy>=1.0.0 in c:\\users\\tiffa\\anaconda3\\lib\\site-packages (from kneed) (1.7.3)\n"
     ]
    }
   ],
   "source": [
    "!pip install kneed\n",
    "from kneed import KneeLocator\n",
    "from sklearn.cluster import KMeans\n",
    "from sklearn.datasets import make_blobs\n",
    "import pandas as pd\n",
    "import numpy as np\n",
    "import matplotlib.pyplot as plt"
   ]
  },
  {
   "cell_type": "code",
   "execution_count": 374,
   "id": "76f9a9fe",
   "metadata": {},
   "outputs": [
    {
     "data": {
      "text/html": [
       "<div>\n",
       "<style scoped>\n",
       "    .dataframe tbody tr th:only-of-type {\n",
       "        vertical-align: middle;\n",
       "    }\n",
       "\n",
       "    .dataframe tbody tr th {\n",
       "        vertical-align: top;\n",
       "    }\n",
       "\n",
       "    .dataframe thead th {\n",
       "        text-align: right;\n",
       "    }\n",
       "</style>\n",
       "<table border=\"1\" class=\"dataframe\">\n",
       "  <thead>\n",
       "    <tr style=\"text-align: right;\">\n",
       "      <th></th>\n",
       "      <th>Avg Revenue/Day</th>\n",
       "      <th>Revenue</th>\n",
       "    </tr>\n",
       "  </thead>\n",
       "  <tbody>\n",
       "    <tr>\n",
       "      <th>0</th>\n",
       "      <td>1.225310e+06</td>\n",
       "      <td>30632752.0</td>\n",
       "    </tr>\n",
       "    <tr>\n",
       "      <th>1</th>\n",
       "      <td>1.034095e+06</td>\n",
       "      <td>22750080.0</td>\n",
       "    </tr>\n",
       "    <tr>\n",
       "      <th>2</th>\n",
       "      <td>6.721809e+05</td>\n",
       "      <td>13443619.0</td>\n",
       "    </tr>\n",
       "    <tr>\n",
       "      <th>3</th>\n",
       "      <td>7.393133e+05</td>\n",
       "      <td>16264892.0</td>\n",
       "    </tr>\n",
       "    <tr>\n",
       "      <th>4</th>\n",
       "      <td>5.626718e+05</td>\n",
       "      <td>11816107.0</td>\n",
       "    </tr>\n",
       "  </tbody>\n",
       "</table>\n",
       "</div>"
      ],
      "text/plain": [
       "   Avg Revenue/Day     Revenue\n",
       "0     1.225310e+06  30632752.0\n",
       "1     1.034095e+06  22750080.0\n",
       "2     6.721809e+05  13443619.0\n",
       "3     7.393133e+05  16264892.0\n",
       "4     5.626718e+05  11816107.0"
      ]
     },
     "execution_count": 374,
     "metadata": {},
     "output_type": "execute_result"
    }
   ],
   "source": [
    "#Reading excel data and putting it into a dataframe using pandas\n",
    "df= pd.read_excel(\"GenshinFinalRev.xlsx\")\n",
    "df.dropna(inplace=True)\n",
    "Rev= df[['Avg Revenue/Day','Revenue']]\n",
    "Rev.head()"
   ]
  },
  {
   "cell_type": "code",
   "execution_count": 375,
   "id": "126fe229",
   "metadata": {},
   "outputs": [
    {
     "name": "stdout",
     "output_type": "stream",
     "text": [
      "Version              float64\n",
      "Version Name          object\n",
      "Start Date            object\n",
      "End Date              object\n",
      "5 Star Characters     object\n",
      "Rerun                float64\n",
      "Mixed                 object\n",
      "Revenue              float64\n",
      "Banner Days          float64\n",
      "Avg Revenue/Day      float64\n",
      "dtype: object\n"
     ]
    }
   ],
   "source": [
    "#making sure revenue data type is in float\n",
    "print(df.dtypes)"
   ]
  },
  {
   "cell_type": "code",
   "execution_count": 376,
   "id": "6814e7dd",
   "metadata": {},
   "outputs": [
    {
     "data": {
      "image/png": "[encoded data removed]",
      "text/plain": [
       "<Figure size 432x288 with 1 Axes>"
      ]
     },
     "metadata": {
      "needs_background": "light"
     },
     "output_type": "display_data"
    }
   ],
   "source": [
    "#plotting the data\n",
    "plt.scatter(Rev.iloc[:, 0], Rev.iloc[:, 1], c='red', marker='o', edgecolor='black', s=50)\n",
    "plt.show()"
   ]
  },
  {
   "cell_type": "code",
   "execution_count": 377,
   "id": "0b1cf206",
   "metadata": {},
   "outputs": [
    {
     "data": {
      "text/plain": [
       "array([0, 0, 1, 1, 2, 1, 1, 2, 1, 1, 2, 2, 1, 2, 2, 1, 2, 0, 2, 2, 0, 1,\n",
       "       1, 1, 0, 1, 0, 0, 0, 0, 1, 0, 1, 1, 1, 1, 1, 0, 1])"
      ]
     },
     "execution_count": 377,
     "metadata": {},
     "output_type": "execute_result"
    }
   ],
   "source": [
    "#training K-Means clustering\n",
    "km = KMeans(n_clusters=3, init='k-means++',n_init=10, max_iter=300,tol=1e-04, random_state=0)\n",
    "y_predict = km.fit_predict(X)\n",
    "y_predict"
   ]
  },
  {
   "cell_type": "code",
   "execution_count": 378,
   "id": "45a519bd",
   "metadata": {},
   "outputs": [
    {
     "data": {
      "text/plain": [
       "<matplotlib.collections.PathCollection at 0x21648e12c10>"
      ]
     },
     "execution_count": 378,
     "metadata": {},
     "output_type": "execute_result"
    },
    {
     "data": {
      "image/png": "[encoded data removed]",
      "text/plain": [
       "<Figure size 432x288 with 1 Axes>"
      ]
     },
     "metadata": {
      "needs_background": "light"
     },
     "output_type": "display_data"
    }
   ],
   "source": [
    "#plotting the trained K-Means clustering\n",
    "plt.scatter(Rev.iloc[:,0],Rev.iloc[:,1],c=y_predict)"
   ]
  },
  {
   "cell_type": "code",
   "execution_count": 379,
   "id": "7e493853",
   "metadata": {},
   "outputs": [
    {
     "data": {
      "text/html": [
       "<div>\n",
       "<style scoped>\n",
       "    .dataframe tbody tr th:only-of-type {\n",
       "        vertical-align: middle;\n",
       "    }\n",
       "\n",
       "    .dataframe tbody tr th {\n",
       "        vertical-align: top;\n",
       "    }\n",
       "\n",
       "    .dataframe thead th {\n",
       "        text-align: right;\n",
       "    }\n",
       "</style>\n",
       "<table border=\"1\" class=\"dataframe\">\n",
       "  <thead>\n",
       "    <tr style=\"text-align: right;\">\n",
       "      <th></th>\n",
       "      <th>Avg Revenue/Day</th>\n",
       "      <th>Revenue</th>\n",
       "      <th>cluster</th>\n",
       "    </tr>\n",
       "  </thead>\n",
       "  <tbody>\n",
       "    <tr>\n",
       "      <th>0</th>\n",
       "      <td>1.225310e+06</td>\n",
       "      <td>30632752.0</td>\n",
       "      <td>0</td>\n",
       "    </tr>\n",
       "    <tr>\n",
       "      <th>1</th>\n",
       "      <td>1.034095e+06</td>\n",
       "      <td>22750080.0</td>\n",
       "      <td>0</td>\n",
       "    </tr>\n",
       "    <tr>\n",
       "      <th>2</th>\n",
       "      <td>6.721809e+05</td>\n",
       "      <td>13443619.0</td>\n",
       "      <td>1</td>\n",
       "    </tr>\n",
       "    <tr>\n",
       "      <th>3</th>\n",
       "      <td>7.393133e+05</td>\n",
       "      <td>16264892.0</td>\n",
       "      <td>1</td>\n",
       "    </tr>\n",
       "    <tr>\n",
       "      <th>4</th>\n",
       "      <td>5.626718e+05</td>\n",
       "      <td>11816107.0</td>\n",
       "      <td>2</td>\n",
       "    </tr>\n",
       "  </tbody>\n",
       "</table>\n",
       "</div>"
      ],
      "text/plain": [
       "   Avg Revenue/Day     Revenue  cluster\n",
       "0     1.225310e+06  30632752.0        0\n",
       "1     1.034095e+06  22750080.0        0\n",
       "2     6.721809e+05  13443619.0        1\n",
       "3     7.393133e+05  16264892.0        1\n",
       "4     5.626718e+05  11816107.0        2"
      ]
     },
     "execution_count": 379,
     "metadata": {},
     "output_type": "execute_result"
    }
   ],
   "source": [
    "X['cluster'] = y_predict\n",
    "X.head()"
   ]
  },
  {
   "cell_type": "code",
   "execution_count": 380,
   "id": "df46fbac",
   "metadata": {},
   "outputs": [
    {
     "data": {
      "image/png": "[encoded data removed]",
      "text/plain": [
       "<Figure size 432x288 with 1 Axes>"
      ]
     },
     "metadata": {
      "needs_background": "light"
     },
     "output_type": "display_data"
    }
   ],
   "source": [
    "# plot the 3 clusters\n",
    "plt.scatter(Rev.iloc[y_predict == 0, 0], Rev.iloc[y_predict == 0, 1], s=30, c='blue', marker='v', edgecolor='blue', label='Cluster 1')\n",
    "\n",
    "plt.scatter(Rev.iloc[y_predict == 1, 0], Rev.iloc[y_predict == 1, 1], s=30, c='pink', marker='s', edgecolor='pink', label='Cluster 2')\n",
    "\n",
    "plt.scatter(Rev.iloc[y_predict == 2, 0], Rev.iloc[y_predict == 2, 1], s=30, c='purple', marker='o', edgecolor='purple', label='Cluster 3')\n",
    "\n",
    "# plot the centroids\n",
    "plt.scatter(km.cluster_centers_[:, 0], km.cluster_centers_[:, 1], s=200, marker='*', c='red', edgecolor='white', label='Centroids')\n",
    "plt.legend(scatterpoints=1)\n",
    "plt.xlabel('Average Revenue per Day')\n",
    "plt.ylabel('Revenue per Banner')\n",
    "\n",
    "plt.grid()\n",
    "plt.show()"
   ]
  },
  {
   "cell_type": "code",
   "execution_count": 381,
   "id": "3dd95629",
   "metadata": {},
   "outputs": [
    {
     "name": "stderr",
     "output_type": "stream",
     "text": [
      "C:\\Users\\tiffa\\anaconda3\\lib\\site-packages\\sklearn\\cluster\\_kmeans.py:1036: UserWarning: KMeans is known to have a memory leak on Windows with MKL, when there are less chunks than available threads. You can avoid it by setting the environment variable OMP_NUM_THREADS=1.\n",
      "  warnings.warn(\n"
     ]
    },
    {
     "name": "stdout",
     "output_type": "stream",
     "text": [
      "[2489401737122591.5, 598483966657044.1, 336732165123649.0, 126402004280163.06, 65818306395967.81, 50958509158676.125, 39926784774978.016, 30100780917593.242, 19219811773536.887, 13978523975819.203]\n"
     ]
    }
   ],
   "source": [
    "#calculate distortion for a range of number of cluster\n",
    "distortions= []\n",
    "for k in range(1,11):\n",
    "    km = KMeans(n_clusters=k, init = 'k-means++', max_iter = 300, n_init = 10, tol=1e-04, random_state = 0)\n",
    "    km.fit(Rev)\n",
    "    distortions.append(km.inertia_)\n",
    "print(distortions)"
   ]
  },
  {
   "cell_type": "code",
   "execution_count": 382,
   "id": "23348319",
   "metadata": {},
   "outputs": [
    {
     "data": {
      "text/plain": [
       "2"
      ]
     },
     "execution_count": 382,
     "metadata": {},
     "output_type": "execute_result"
    }
   ],
   "source": [
    "#Elbow\n",
    "kl = KneeLocator(range(1, 11), distortions, curve=\"convex\", direction=\"decreasing\")\n",
    "kl.elbow"
   ]
  },
  {
   "cell_type": "code",
   "execution_count": 383,
   "id": "cbd6df8a",
   "metadata": {},
   "outputs": [
    {
     "data": {
      "text/plain": [
       "[<matplotlib.lines.Line2D at 0x2164c33bb50>]"
      ]
     },
     "execution_count": 383,
     "metadata": {},
     "output_type": "execute_result"
    },
    {
     "data": {
      "image/png": "[encoded data removed]",
      "text/plain": [
       "<Figure size 432x288 with 1 Axes>"
      ]
     },
     "metadata": {
      "needs_background": "light"
     },
     "output_type": "display_data"
    }
   ],
   "source": [
    "#Draw elbow plot and from that figure out optimal value of k plot\n",
    "plt.xlabel('num of clusters')\n",
    "plt.ylabel('distortions')\n",
    "plt.plot(range(1,11), distortions, marker='o')\n",
    "\n",
    "#the optimal value of k is 2.\n"
   ]
  }
 ],
 "metadata": {
  "kernelspec": {
   "display_name": "Python 3 (ipykernel)",
   "language": "python",
   "name": "python3"
  },
  "language_info": {
   "codemirror_mode": {
    "name": "ipython",
    "version": 3
   },
   "file_extension": ".py",
   "mimetype": "text/x-python",
   "name": "python",
   "nbconvert_exporter": "python",
   "pygments_lexer": "ipython3",
   "version": "3.9.12"
  }
 },
 "nbformat": 4,
 "nbformat_minor": 5
}
