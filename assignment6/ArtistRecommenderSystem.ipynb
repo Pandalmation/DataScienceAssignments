{
 "cells": [
  {
   "cell_type": "code",
   "execution_count": 155,
   "id": "41444919",
   "metadata": {},
   "outputs": [],
   "source": [
    "import pandas as pd\n",
    "from math import sqrt\n",
    "import numpy as np\n",
    "from sklearn.preprocessing import MinMaxScaler"
   ]
  },
  {
   "cell_type": "code",
   "execution_count": 156,
   "id": "ceb2ae38",
   "metadata": {},
   "outputs": [
    {
     "name": "stdout",
     "output_type": "stream",
     "text": [
      "<bound method DataFrame.info of        artist_id   artist_name\n",
      "0              1       __Max__\n",
      "1              2       _Algol_\n",
      "2              3     -123 Min.\n",
      "3              4          -Oz-\n",
      "4              5  -T De Sangre\n",
      "...          ...           ...\n",
      "17488      17489          鷺巣詩郎\n",
      "17489      17490           黃立行\n",
      "17490      17491           黄义达\n",
      "17491      17492         黒木メイサ\n",
      "17492      17493            鼓童\n",
      "\n",
      "[17493 rows x 2 columns]>\n",
      "<class 'pandas.core.frame.DataFrame'>\n",
      "RangeIndex: 92792 entries, 0 to 92791\n",
      "Data columns (total 3 columns):\n",
      " #   Column     Non-Null Count  Dtype\n",
      "---  ------     --------------  -----\n",
      " 0   user_id    92792 non-null  int64\n",
      " 1   artist_id  92792 non-null  int64\n",
      " 2   scrobbles  92792 non-null  int64\n",
      "dtypes: int64(3)\n",
      "memory usage: 2.1 MB\n"
     ]
    },
    {
     "data": {
      "text/plain": [
       "8460     611\n",
       "2381     522\n",
       "12276    485\n",
       "14340    480\n",
       "8014     473\n",
       "        ... \n",
       "17343      1\n",
       "5824       1\n",
       "1390       1\n",
       "4866       1\n",
       "8660       1\n",
       "Name: artist_id, Length: 17493, dtype: int64"
      ]
     },
     "execution_count": 156,
     "metadata": {},
     "output_type": "execute_result"
    }
   ],
   "source": [
    "artistlist_df = pd.read_csv(\"lastfm_artist_list.csv\")\n",
    "scrobblelist_df = pd.read_csv(\"lastfm_user_scrobbles.csv\")\n",
    "print(artistlist_df.info)\n",
    "scrobblelist_df.info()\n",
    "scrobblelist_df[\"artist_id\"].value_counts()\n"
   ]
  },
  {
   "cell_type": "code",
   "execution_count": 157,
   "id": "0b745990",
   "metadata": {},
   "outputs": [
    {
     "name": "stdout",
     "output_type": "stream",
     "text": [
      "       user_id  artist_id   ratings\n",
      "0            1       4562  1.354236\n",
      "1            1      10191  1.298276\n",
      "2            1        494  1.289625\n",
      "3            1       6673  1.262806\n",
      "4            1       8402  1.229200\n",
      "...        ...        ...       ...\n",
      "92787     1892      10098  1.007068\n",
      "92788     1892       8660  1.006686\n",
      "92789     1892       3274  1.006558\n",
      "92790     1892       4240  1.005895\n",
      "92791     1892      10842  1.005793\n",
      "\n",
      "[92792 rows x 3 columns]\n"
     ]
    }
   ],
   "source": [
    "scaler = MinMaxScaler(feature_range= (1,10))\n",
    "scaler.fit(scrobblelist_df[[\"scrobbles\",\"scrobbles\"]])\n",
    "\n",
    "newdata = scaler.transform(scrobblelist_df[[\"scrobbles\",\"scrobbles\"]])\n",
    "scrobblelist_df['ratings']=newdata[:,0]\n",
    "scrobblelist_df.drop(\"scrobbles\",axis= 1,inplace= True)\n",
    "print(scrobblelist_df)"
   ]
  },
  {
   "cell_type": "code",
   "execution_count": 158,
   "id": "80d7a28c",
   "metadata": {},
   "outputs": [
    {
     "name": "stdout",
     "output_type": "stream",
     "text": [
      "      artist_name  ratings\n",
      "0       Lady Gaga        5\n",
      "1  Britney Spears        8\n",
      "2         Rihanna       10\n",
      "3     The Beatles        6\n",
      "4      Katy Perry        9\n"
     ]
    }
   ],
   "source": [
    "userInput = [{\"artist_name\": \"Lady Gaga\" ,\"ratings\": 5},\n",
    "{\"artist_name\": \"Britney Spears\",\"ratings\": 8},\n",
    "{\"artist_name\": \"Rihanna\",\"ratings\": 10},\n",
    "{\"artist_name\": \"The Beatles\",\"ratings\": 6},\n",
    "{\"artist_name\": \"Katy Perry\",\"ratings\": 9}]\n",
    "\n",
    "inputArtists = pd.DataFrame(userInput)\n",
    "print(inputArtists)"
   ]
  },
  {
   "cell_type": "code",
   "execution_count": 159,
   "id": "09173626",
   "metadata": {},
   "outputs": [
    {
     "name": "stdout",
     "output_type": "stream",
     "text": [
      "   artist_id     artist_name  ratings\n",
      "0       2381  Britney Spears        8\n",
      "1       8014      Katy Perry        9\n",
      "2       8460       Lady Gaga        5\n",
      "3      12276         Rihanna       10\n",
      "4      14340     The Beatles        6\n"
     ]
    }
   ],
   "source": [
    "inputId= artistlist_df[artistlist_df[\"artist_name\"].isin(inputArtists[\"artist_name\"].tolist())]\n",
    "inputArtists = pd.merge(inputId, inputArtists)\n",
    "inputArtists = inputArtists[[\"artist_id\",\"artist_name\",\"ratings\"]]\n",
    "print(inputArtists)\n",
    "#print(artistlist_df[artistlist_df['artist_name']==\"Lady Gaga\"])\n",
    "#print(artistlist_df[\"artist_name\"])\n",
    "# inputArtists = pd.merge(inputId, inputArtists)\n",
    "# print(inputArtists)\n",
    "\n",
    "\n",
    "#inputId = movies_df[movies_df['title'].isin(inputMovies['title'].tolist())]\n",
    "#inputMovies = pd.merge(inputId, inputMovies)\n",
    "#inputMovies = inputMovies.drop('year', 1) #we don't really need this at the moment\n",
    "#inputMovies = inputMovies[['movieId','title','rating']]\n",
    "#print(inputMovies)"
   ]
  },
  {
   "cell_type": "code",
   "execution_count": 160,
   "id": "49daebcf",
   "metadata": {},
   "outputs": [
    {
     "name": "stdout",
     "output_type": "stream",
     "text": [
      "           user_id  ratings\n",
      "artist_id                  \n",
      "2381           522      522\n",
      "8014           473      473\n",
      "8460           611      611\n",
      "12276          485      485\n",
      "14340          480      480\n"
     ]
    }
   ],
   "source": [
    "userSubset = scrobblelist_df[scrobblelist_df[\"artist_id\"].isin(inputArtists[\"artist_id\"].tolist())]\n",
    "print(userSubset.groupby('artist_id').count())"
   ]
  },
  {
   "cell_type": "code",
   "execution_count": 161,
   "id": "6f1cffa5",
   "metadata": {},
   "outputs": [
    {
     "name": "stdout",
     "output_type": "stream",
     "text": [
      "[(46,       user_id  artist_id   ratings\n",
      "2224       46       8460  1.002832\n",
      "2234       46       8014  1.000944\n",
      "2239       46       2381  1.000561\n",
      "2248       46      14340  1.000357\n",
      "2252       46      12276  1.000306), (94,       user_id  artist_id   ratings\n",
      "4613       94       2381  1.063769\n",
      "4616       94      14340  1.007221\n",
      "4618       94       8014  1.006941\n",
      "4620       94       8460  1.005665\n",
      "4622       94      12276  1.004491), (170,       user_id  artist_id   ratings\n",
      "8363      170       8460  1.108756\n",
      "8364      170       2381  1.098294\n",
      "8390      170      14340  1.004772\n",
      "8397      170      12276  1.004108\n",
      "8406      170       8014  1.002143), (203,       user_id  artist_id   ratings\n",
      "9947      203       2381  1.022940\n",
      "9959      203      12276  1.007119\n",
      "9964      203      14340  1.005997\n",
      "9965      203       8460  1.004797\n",
      "9975      203       8014  1.003164), (226,        user_id  artist_id   ratings\n",
      "11094      226       8460  1.033581\n",
      "11099      226       2381  1.010692\n",
      "11101      226      12276  1.008089\n",
      "11103      226       8014  1.006303\n",
      "11124      226      14340  1.002935)]\n"
     ]
    }
   ],
   "source": [
    "userSubsetgroup = userSubset.groupby([\"user_id\"])\n",
    "def take_5_elem(x):\n",
    "    return len(x[1])\n",
    "\n",
    "userSubsetgroup = sorted(userSubsetgroup, key=take_5_elem, reverse=True)\n",
    "userSubsetgroup = userSubsetgroup[0:100]\n",
    "print(userSubsetgroup[0:5])"
   ]
  },
  {
   "cell_type": "code",
   "execution_count": 162,
   "id": "b4d84cc0",
   "metadata": {},
   "outputs": [],
   "source": [
    "pearCorrDict = {}\n",
    "for name, group in userSubsetgroup:\n",
    "    group = group.sort_values(by=\"artist_id\")\n",
    "    inputArtists = inputArtists.sort_values(by=\"artist_id\")\n",
    "    \n",
    "    nRatings = len(group)\n",
    "    \n",
    "    temp_df = inputArtists[inputArtists[\"artist_id\"].isin(group[\"artist_id\"].tolist())]\n",
    "    \n",
    "    tempRatingList = temp_df['ratings'].tolist()\n",
    "    tempGroupList = group[\"ratings\"].tolist()\n",
    "    \n",
    "    Sxx = sum([i**2 for i in tempRatingList]) - pow(sum(tempRatingList),2)/float(nRatings)\n",
    "    Syy = sum([i**2 for i in tempGroupList]) - pow(sum(tempGroupList),2)/float(nRatings)\n",
    "    Sxy = sum( i*j for i, j in zip(tempRatingList, tempGroupList)) - sum(tempRatingList)*sum(tempGroupList)/float(nRatings)\n",
    "\n",
    "    #If the denominator is different than zero, then divide, else, 0 correlation.\n",
    "    if Sxx != 0 and Syy != 0:\n",
    "        pearCorrDict[name] = Sxy/sqrt(Sxx*Syy)\n",
    "    else:\n",
    "        pearCorrDict[name] = 0\n",
    "    "
   ]
  },
  {
   "cell_type": "code",
   "execution_count": 163,
   "id": "c52c80dc",
   "metadata": {},
   "outputs": [
    {
     "name": "stdout",
     "output_type": "stream",
     "text": [
      "   similarityIndex  user_id\n",
      "0        -0.646502       46\n",
      "1         0.092070       94\n",
      "2        -0.523865      170\n",
      "3         0.129370      203\n",
      "4        -0.587149      226\n"
     ]
    }
   ],
   "source": [
    "pearDF = pd.DataFrame.from_dict(pearCorrDict, orient= \"index\")\n",
    "pearDF.columns = [\"similarityIndex\"]\n",
    "pearDF[\"user_id\"] = pearDF.index\n",
    "pearDF.index = range(len(pearDF))\n",
    "print(pearDF.head())"
   ]
  },
  {
   "cell_type": "code",
   "execution_count": 164,
   "id": "adecbf2b",
   "metadata": {},
   "outputs": [
    {
     "name": "stdout",
     "output_type": "stream",
     "text": [
      "    similarityIndex  user_id\n",
      "53         0.694234      141\n",
      "87         0.670170      366\n",
      "50         0.639384      129\n",
      "36         0.631580       44\n",
      "88         0.629080      373\n"
     ]
    }
   ],
   "source": [
    "topUsers= pearDF.sort_values(by=\"similarityIndex\", ascending = False)[0:50]\n",
    "print(topUsers.head())"
   ]
  },
  {
   "cell_type": "code",
   "execution_count": 169,
   "id": "e7eb6c3a",
   "metadata": {},
   "outputs": [
    {
     "name": "stdout",
     "output_type": "stream",
     "text": [
      "    similarityIndex  user_id  artist_id   ratings\n",
      "0          0.694234      141      12276  1.608060\n",
      "1          0.694234      141       8014  1.138025\n",
      "2          0.694234      141       2134  1.114957\n",
      "3          0.694234      141      17234  1.114294\n",
      "4          0.694234      141       1820  1.109471\n",
      "..              ...      ...        ...       ...\n",
      "95         0.670170      366       2056  1.001199\n",
      "96         0.670170      366       9226  1.001199\n",
      "97         0.670170      366       9725  1.001199\n",
      "98         0.670170      366      14259  1.001199\n",
      "99         0.670170      366      11950  1.001174\n",
      "\n",
      "[100 rows x 4 columns]\n"
     ]
    }
   ],
   "source": [
    "topUsersRating = topUsers.merge(scrobblelist_df, left_on=\"user_id\", right_on=\"user_id\", how=\"inner\")\n",
    "print(topUsersRating.head(100))"
   ]
  },
  {
   "cell_type": "code",
   "execution_count": 172,
   "id": "1efb98b7",
   "metadata": {},
   "outputs": [
    {
     "name": "stdout",
     "output_type": "stream",
     "text": [
      "   similarityIndex  user_id  artist_id   ratings  weightedRating\n",
      "0         0.694234      141      12276  1.608060        1.116370\n",
      "1         0.694234      141       8014  1.138025        0.790055\n",
      "2         0.694234      141       2134  1.114957        0.774041\n",
      "3         0.694234      141      17234  1.114294        0.773580\n",
      "4         0.694234      141       1820  1.109471        0.770232\n"
     ]
    }
   ],
   "source": [
    "topUsersRating[\"weightedRating\"] = topUsersRating[\"similarityIndex\"]*topUsersRating[\"ratings\"]\n",
    "print(topUsersRating.head())"
   ]
  },
  {
   "cell_type": "code",
   "execution_count": 173,
   "id": "f0b0afeb",
   "metadata": {},
   "outputs": [
    {
     "name": "stdout",
     "output_type": "stream",
     "text": [
      "           sum_similarityIndex  sum_weightedRating\n",
      "artist_id                                         \n",
      "28                    0.698249            0.699212\n",
      "48                   -0.002274           -0.002274\n",
      "52                    0.383974            0.384621\n",
      "96                    0.223452            0.246351\n",
      "99                    0.223452            0.226816\n"
     ]
    }
   ],
   "source": [
    "tempTopUsersRating = topUsersRating.groupby('artist_id').sum()[['similarityIndex','weightedRating']]\n",
    "tempTopUsersRating.columns = ['sum_similarityIndex','sum_weightedRating']\n",
    "print(tempTopUsersRating.head())"
   ]
  },
  {
   "cell_type": "code",
   "execution_count": 175,
   "id": "c32dfc4c",
   "metadata": {},
   "outputs": [
    {
     "name": "stdout",
     "output_type": "stream",
     "text": [
      "           weighted average recommendation score  artist_id\n",
      "artist_id                                                  \n",
      "28                                      1.001379         28\n",
      "48                                      1.000051         48\n",
      "52                                      1.001684         52\n",
      "96                                      1.102479         96\n",
      "99                                      1.015055         99\n",
      "...                                          ...        ...\n",
      "2294                                    1.008906       2294\n",
      "2311                                    1.015247       2311\n",
      "2329                                    1.009416       2329\n",
      "2370                                    1.001250       2370\n",
      "2381                                    1.031093       2381\n",
      "\n",
      "[100 rows x 2 columns]\n"
     ]
    }
   ],
   "source": [
    "recommend_df = pd.DataFrame()\n",
    "recommend_df['weighted average recommendation score'] = tempTopUsersRating['sum_weightedRating']/tempTopUsersRating['sum_similarityIndex']\n",
    "recommend_df['artist_id'] = tempTopUsersRating.index\n",
    "print(recommend_df.head(100))"
   ]
  },
  {
   "cell_type": "code",
   "execution_count": 176,
   "id": "a48ac443",
   "metadata": {},
   "outputs": [
    {
     "name": "stdout",
     "output_type": "stream",
     "text": [
      "           weighted average recommendation score  artist_id\n",
      "artist_id                                                  \n",
      "12276                                   1.236922      12276\n",
      "857                                     1.229404        857\n",
      "6644                                    1.187886       6644\n",
      "10750                                   1.169208      10750\n",
      "11894                                   1.121454      11894\n",
      "...                                          ...        ...\n",
      "2145                                    0.897217       2145\n",
      "8636                                    0.860463       8636\n",
      "9696                                    0.857575       9696\n",
      "16319                                   0.826566      16319\n",
      "8440                                    0.588036       8440\n",
      "\n",
      "[749 rows x 2 columns]\n"
     ]
    }
   ],
   "source": [
    "recommend_df = recommend_df.sort_values(by='weighted average recommendation score', ascending=False)\n",
    "print(recommend_df)\n"
   ]
  },
  {
   "cell_type": "code",
   "execution_count": 178,
   "id": "acfaa77c",
   "metadata": {},
   "outputs": [
    {
     "name": "stdout",
     "output_type": "stream",
     "text": [
      "       artist_id artist_name\n",
      "27            28      *Nsync\n",
      "47            48         110\n",
      "51            52   12 Stones\n",
      "95            96        2ne1\n",
      "98            99         2pm\n",
      "...          ...         ...\n",
      "17365      17366       安室奈美恵\n",
      "17398      17399   放課後ティータイム\n",
      "17409      17410        東方神起\n",
      "17433      17434       浜崎あゆみ\n",
      "17491      17492       黒木メイサ\n",
      "\n",
      "[744 rows x 2 columns]\n"
     ]
    }
   ],
   "source": [
    "recommend_artist=artistlist_df.loc[artistlist_df['artist_id'].isin(recommend_df['artist_id'])]\n",
    "\n",
    "#we don't want to recommend the same movie\n",
    "recommend_artist=recommend_artist.loc[~recommend_artist.artist_id.isin(userSubset['artist_id'])]\n",
    "\n",
    "print(recommend_artist)"
   ]
  }
 ],
 "metadata": {
  "kernelspec": {
   "display_name": "Python 3 (ipykernel)",
   "language": "python",
   "name": "python3"
  },
  "language_info": {
   "codemirror_mode": {
    "name": "ipython",
    "version": 3
   },
   "file_extension": ".py",
   "mimetype": "text/x-python",
   "name": "python",
   "nbconvert_exporter": "python",
   "pygments_lexer": "ipython3",
   "version": "3.9.12"
  }
 },
 "nbformat": 4,
 "nbformat_minor": 5
}
